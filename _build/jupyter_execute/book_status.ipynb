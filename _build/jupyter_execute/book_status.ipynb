{
 "cells": [
  {
   "cell_type": "markdown",
   "id": "b8db1b4b",
   "metadata": {},
   "source": [
    "# Book Status\n",
    "\n",
    "<input type=\"checkbox\" disabled checked> Get Live coding to work<br>\n",
    "<input type=\"checkbox\" disabled checked> Get Binder to work<br>\n",
    "<input type=\"checkbox\" disabled> Inline tabs for different programming languages (Python, R)<br>\n",
    "<input type=\"checkbox\" disabled> Decide Sphinx theme<br>\n",
    "<input type=\"checkbox\" disabled> Decide Structure of the book<br>\n",
    "<input type=\"checkbox\" disabled> `Doing` Complete Probability review<br>\n",
    "<input type=\"checkbox\" disabled> `Doing` Modify Probability review into chapter<br>\n",
    "<input type=\"checkbox\" disabled> `To do` Complete Multi-Arm bandit chapter<br>"
   ]
  }
 ],
 "metadata": {
  "kernelspec": {
   "display_name": "Python 3 (ipykernel)",
   "language": "python",
   "name": "python3"
  },
  "language_info": {
   "codemirror_mode": {
    "name": "ipython",
    "version": 3
   },
   "file_extension": ".py",
   "mimetype": "text/x-python",
   "name": "python",
   "nbconvert_exporter": "python",
   "pygments_lexer": "ipython3",
   "version": "3.9.7"
  }
 },
 "nbformat": 4,
 "nbformat_minor": 5
}