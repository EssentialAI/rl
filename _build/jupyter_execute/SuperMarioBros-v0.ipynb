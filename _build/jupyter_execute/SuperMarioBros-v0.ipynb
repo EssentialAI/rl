{
 "cells": [
  {
   "cell_type": "markdown",
   "id": "b786bc7a",
   "metadata": {},
   "source": [
    "### [0.2] RL Example"
   ]
  },
  {
   "cell_type": "code",
   "execution_count": 1,
   "id": "bc0ae802",
   "metadata": {},
   "outputs": [
    {
     "ename": "ModuleNotFoundError",
     "evalue": "No module named 'tensorflow'",
     "output_type": "error",
     "traceback": [
      "\u001b[1;31m---------------------------------------------------------------------------\u001b[0m",
      "\u001b[1;31mModuleNotFoundError\u001b[0m                       Traceback (most recent call last)",
      "\u001b[1;32m~\\AppData\\Local\\Temp/ipykernel_4436/415801935.py\u001b[0m in \u001b[0;36m<module>\u001b[1;34m\u001b[0m\n\u001b[1;32m----> 1\u001b[1;33m \u001b[1;32mimport\u001b[0m \u001b[0mtensorflow\u001b[0m \u001b[1;32mas\u001b[0m \u001b[0mtf\u001b[0m\u001b[1;33m\u001b[0m\u001b[1;33m\u001b[0m\u001b[0m\n\u001b[0m\u001b[0;32m      2\u001b[0m \u001b[1;32mimport\u001b[0m \u001b[0mrandom\u001b[0m\u001b[1;33m\u001b[0m\u001b[1;33m\u001b[0m\u001b[0m\n\u001b[0;32m      3\u001b[0m \u001b[1;32mimport\u001b[0m \u001b[0mgym\u001b[0m\u001b[1;33m\u001b[0m\u001b[1;33m\u001b[0m\u001b[0m\n\u001b[0;32m      4\u001b[0m \u001b[1;32mfrom\u001b[0m \u001b[0mcollections\u001b[0m \u001b[1;32mimport\u001b[0m \u001b[0mdeque\u001b[0m\u001b[1;33m\u001b[0m\u001b[1;33m\u001b[0m\u001b[0m\n\u001b[0;32m      5\u001b[0m \u001b[1;32mimport\u001b[0m \u001b[0mgym_super_mario_bros\u001b[0m\u001b[1;33m\u001b[0m\u001b[1;33m\u001b[0m\u001b[0m\n",
      "\u001b[1;31mModuleNotFoundError\u001b[0m: No module named 'tensorflow'"
     ]
    }
   ],
   "source": [
    "import tensorflow as tf\n",
    "import random\n",
    "import gym\n",
    "from collections import deque\n",
    "import gym_super_mario_bros\n",
    "from gym_super_mario_bros.actions import RIGHT_ONLY\n",
    "from nes_py.wrappers import JoypadSpace\n",
    "from IPython.display import clear_output"
   ]
  },
  {
   "cell_type": "code",
   "execution_count": 3,
   "id": "cd936ba3",
   "metadata": {},
   "outputs": [],
   "source": [
    "env = gym_super_mario_bros.make(\"SuperMarioBros-v0\")\n",
    "env = JoypadSpace(env, RIGHT_ONLY)"
   ]
  },
  {
   "cell_type": "code",
   "execution_count": null,
   "id": "5d83f003",
   "metadata": {},
   "outputs": [],
   "source": [
    "import matplotlib.pyplot as plt\n",
    "%matplotlib inline\n",
    "total_reward = 0\n",
    "done = True\n",
    "\n",
    "for step in range(1000):\n",
    "    env.render()\n",
    "    if done:\n",
    "        state = env.reset()\n",
    "    state, reward, done, info = env.step(env.action_space.sample())\n",
    "    print(info)\n",
    "    total_reward+=reward\n",
    "    clear_output(wait = True)\n",
    "env.close()"
   ]
  },
  {
   "cell_type": "markdown",
   "id": "145b1027",
   "metadata": {},
   "source": [
    "### Sample Space $S$ :\n",
    "\n",
    "The set of all the outcomes of a random experiment. Here, each outcome $\\omega \\in S$ can be thought of as a complete description of the state of the real world at the end of the experiment.\n",
    "```{admonition} Further reading \n",
    ":class: dropdown, tip\n",
    "The sample space $S$ is the set of all possible oucomes of a random experiment.\n",
    "\n",
    "Depending on the random experiment, $S$ may be finite, countably infinite and uncountably infinite. For a random coin toss, $S =\\{H,T\\}$ so $|S|=2$.\n",
    "\n",
    "<span class = 'hital'>Other examples:</span>\n",
    "\n",
    "(1) Roll a die: the outcome is the number on the upturned face, so $S = {1, 2, 3, 4, 5, 6}, |S| = 6.$\n",
    "\n",
    "(2) Toss a coin until Heads appears: the outcome is the number of tosses required, so $S = {1, 2, 3, . . . }, |S| = ∞.$\n",
    "\n",
    "(3) Choose a random number between 0 and 1: $S = [0, 1].$ (This is the first example of an uncountable sample space).\n",
    "\n",
    "(4) Throw a dart at a circular dartboard: $S = \\{(x, y) \\in \\mathbb{R}^2 | x^2 + y^2 \\leq 1\\}$\n",
    "\n",
    "For this review of elementary probability we will restrict ourselves to finite and countably infinite sample spaces.\n",
    "```\n",
    "\n",
    "### Set of events (or event space) $\\mathcal{F}:$\n",
    "\n",
    "A set whose elements, $A \\in \\mathcal{F}$ (called events) are subsets of $S$.\n",
    "\n",
    "An event is a collection of possible outcomes of a random experiment. Usually write $A, B, . . .$ to denote events. So an event $A$ is a subset of $S$, the sample space, that is $A ⊂ S$. Usually an event contains the set of outcomes which make the answer to a question ‘Yes’. Saying ‘the outcome is in $A$’ is the same as saying ‘the event A is true’. There are two special events: the whole sample space S is called the certain or the sure event. The empty set ∅ is the null event.\n",
    "\n",
    "```{admonition} Further reading \n",
    ":class: dropdown, tip\n",
    "We often want to combine events in various ways. There are 3 basic operations for combining events.\n",
    "\n",
    "<span class = 'hital'>Complement:</span>\n",
    "\n",
    "$E^c$ = not $E$ = collection of outcome not in $E$\n",
    "\n",
    "<span class = 'hital'>Intersection:</span>\n",
    "\n",
    "$E \\cap F$ = $E$ and $F$ = collection of outcomes in both $E$ and $F$\n",
    "\n",
    "<span class = 'hital'>Union:</span>\n",
    "\n",
    "$E \\cup F$ = $E$ or $F$ = collection of outcomes in either $E$ or $F$ or both\n",
    "```\n",
    "### Probaility measure :\n",
    "\n",
    "A function $P:\\mathcal{F} \\rightarrow \\mathbb{R}$ that satisfies the following properties,\n",
    "\n",
    "<span class = 'hital'>$P(A) \\geq 0$</span>, for all $A \\in \\mathcal{F}$.\n",
    "\n",
    "<span class = 'hital'>$P(S) = 1$.</span>\n",
    "\n",
    "If $A_1, A_2,..$ are disjoint events (i.e.,) $A_i \\cap A_j = \\phi$ whenever $i \\neq j$, then:\n",
    "\n",
    "<span class = 'hital'>$P(\\cup_iA_i) = \\sum_iP(A_i)$</span>\n",
    "\n",
    "These three properties are called <span class = 'blue'>Axioms of Probability.</span>\n",
    "```{admonition} Further reading\n",
    ":class: dropdown, tip \n",
    "<span class = 'hital'>Consistency relations to be satisfied:</span>\n",
    "The basic step is that every event $E$ is assigned a probability $P(E)$. This is a number satisfying:\n",
    "\n",
    "$0 \\leq P(E) \\leq 1$\n",
    "\n",
    "<span class = 'hital'>Other consistency relations:</span>\n",
    "\n",
    "(1) $P(E^c)=1-P(E)$\n",
    "\n",
    "(2) $P(S)=1$\n",
    "\n",
    "(3) if $E \\subset F$ then $P(E) \\leq P(F)$\n",
    "\n",
    "<span class = 'nital'>if $E \\cap F = \\phi$ (aka $E$ and $F$ are disjoint) then:\n",
    "\n",
    "(4) $P(E \\cup F) = P(E)+P(F)$\n",
    "\n",
    "(5) $P(E \\cup F) = P(E)+P(F)-P(E \\cap F)$\n",
    "\n",
    "(6) if $E_1, E_2,...,E_n,..$ is a sequence of pairwise disjoint events, then\n",
    "\n",
    "$$P(\\bigcup_{n=1}^\\infty E_n) = \\sum_{n=1}^{\\infty}P(E_n)$$\n",
    "\n",
    "\n",
    "The last property cannot be deduced from the previous relations which involve only finitely many sets. This property is called countable additivity.\n",
    "```\n",
    "### Conditional Probability:\n",
    "\n",
    "Let $B$ be an event with non-zero probability. The conditional probability of any event $A$ given $B$ is defined as,\n",
    "\n",
    "$$P(A|B) \\doteq \\frac{P(A \\cap B)}{P(B)}$$\n",
    "\n",
    "In other words, $P(A|B)$ is the probability measure of the event $A$ after observing the occurence of $B$.\n",
    "\n",
    "### Independence:\n",
    "\n",
    "Two events are called independent if and only if $P(A \\cap B) = P(A) \\cdot P(B)$ (or equivalently, $P(A|B)=P(A)$). Therefore, independence is equivalent to saying that observing $B$ does not have any effect on the probability of $A$.\n",
    "```{admonition} Further reading\n",
    ":class: dropdown, tip \n",
    "Imagine the following 2-step thought experiment: you toss a coin; if it comes up Heads, you draw one card at random from a standard deck of cards; if it comes up Tails you draw two cards at random (without replacement). \n",
    "\n",
    "Let $A$ be the event that you get Heads on the coin toss, and let $B$ be the event that you draw at least one Ace from the deck. Then $P(B|A)$ is clearly $4/52 = 1/13$. What about $P(A \\cap B)$? Imagine lining up all your many repeated experiments, then for approximately one-half of them the event $A$ will be true.\n",
    "\n",
    "Out of these approximately, $1/13$ will have $B$ also true. So we expect $P(A \\cap B) = (1/2)(1/13) = P(A) \\cdot P(B|A)$. This line of reasoning leads to the result shown in the above equation.\n",
    "\n",
    "It is important to note that $P(B|A)$ is defined only is $P(A) \\neq 0$\n",
    "````"
   ]
  },
  {
   "cell_type": "markdown",
   "id": "3e416172",
   "metadata": {},
   "source": [
    "<img src=\"../images/mario.gif\" align=\"center\"/>"
   ]
  }
 ],
 "metadata": {
  "kernelspec": {
   "display_name": "Python 3 (ipykernel)",
   "language": "python",
   "name": "python3"
  },
  "language_info": {
   "codemirror_mode": {
    "name": "ipython",
    "version": 3
   },
   "file_extension": ".py",
   "mimetype": "text/x-python",
   "name": "python",
   "nbconvert_exporter": "python",
   "pygments_lexer": "ipython3",
   "version": "3.9.7"
  }
 },
 "nbformat": 4,
 "nbformat_minor": 5
}