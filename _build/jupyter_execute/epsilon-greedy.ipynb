{
 "cells": [
  {
   "cell_type": "markdown",
   "metadata": {},
   "source": [
    "# [1.1] Epsilon-Greedy\n",
    "\n",
    "Epsilon-Greedy is the most important algorithm of this section as the subsequent solutions use epsilon-greedy inherently. While methods like UCB perform better than epsilon-greedy in most cases, the structure of the algorithms remaining mostly the same.\n",
    "\n",
    "#### Need of epsilon-greedy.\n",
    "\n",
    "In our previous casino example with 2 slot machines, we have observed how a naive greedy approach of choosing a slot with maximum likelihood can yield detrimental results.\n",
    "\n",
    "<span class = \"hital\">Greedy approach</span>\n",
    "\n",
    "- Roughly means being short-sighted\n",
    "- Using only immediate available information as a heuristic.\n",
    "\n",
    "In our case being greedy is to pick the slot machine with highest “Maximum Likelihood Estimate” without any regard to how much data we collect or about the confidence of selection.\n",
    "\n",
    "Epsilon-greedy is an approach that says “instead of going the greedy approach every single time, we shall have a small probability and explore slot machines at random.” without any regard to its win-rate.\n",
    "\n",
    "This small probability is denoted by $\\epsilon$ and its value is typically 5%, 10%"
   ]
  },
  {
   "cell_type": "code",
   "execution_count": 1,
   "metadata": {},
   "outputs": [
    {
     "name": "stdout",
     "output_type": "stream",
     "text": [
      "Estimated probabilities 0.9013999395709517\n",
      "Estimated probabilities 0.7812500000000001\n",
      "Estimated probabilities 0.5128205128205127\n",
      "Total reward earned =  8995.0\n",
      "Overall win rate =  0.8995\n",
      "Number of times explored =  104\n",
      "Number of times exploited =  9896\n",
      "Number of optimal pulls =  9894\n"
     ]
    },
    {
     "data": {
      "image/png": "[encoded data removed]",
      "text/plain": [
       "<Figure size 432x288 with 1 Axes>"
      ]
     },
     "metadata": {
      "filenames": {
       "image/png": "C:\\Users\\NareshKumarD\\Documents\\GitHub\\rl_wb\\_build\\jupyter_execute\\epsilon-greedy_1_1.png"
      },
      "needs_background": "light"
     },
     "output_type": "display_data"
    }
   ],
   "source": [
    "## Multi-Arm Bandit code\n",
    "import numpy as np\n",
    "import matplotlib.pyplot as plt\n",
    "Bandit_probs= [0.9,0.8,0.5]\n",
    "epsilon = 0.01\n",
    "num_trails = 10000\n",
    "\n",
    "class Bandit:\n",
    "    def __init__(self, prob):\n",
    "        self.actual_prob = prob\n",
    "        self.prob_estimate = 0\n",
    "        self.N = 0\n",
    "    def pull(self):\n",
    "        return np.random.random()<self.actual_prob\n",
    "    def update(self,x):\n",
    "        self.N+=1\n",
    "        self.prob_estimate+=(1/self.N)*(x-self.prob_estimate)\n",
    "    \n",
    "def experiment():\n",
    "    bandits = [Bandit(p) for p in Bandit_probs]\n",
    "    rewards = np.zeros(num_trails)\n",
    "    num_explored = 0\n",
    "    num_exploited = 0\n",
    "    num_optimal = 0\n",
    "    optimal_j = np.argmax([b.actual_prob for b in bandits])\n",
    "    for i in range(num_trails):\n",
    "        if np.random.random()<epsilon:\n",
    "            num_explored +=1\n",
    "            j = np.random.choice(len(bandits))\n",
    "        else:\n",
    "            num_exploited +=1\n",
    "            j = np.argmax([b.prob_estimate for b in bandits])\n",
    "            if j == optimal_j:\n",
    "                num_optimal+=1\n",
    "        \n",
    "        rewards[i] = bandits[j].pull()\n",
    "        bandits[j].update(rewards[i])\n",
    "    for b in bandits:\n",
    "        print(\"Estimated probabilities\", b.prob_estimate)\n",
    "        \n",
    "    print(\"Total reward earned = \", rewards.sum())\n",
    "    print(\"Overall win rate = \", rewards.sum()/num_trails)\n",
    "    print(\"Number of times explored = \", num_explored)\n",
    "    print(\"Number of times exploited = \", num_exploited)\n",
    "    print(\"Number of optimal pulls = \", num_optimal)\n",
    "    \n",
    "    #plot the results\n",
    "    cummulative_rewards = np.cumsum(rewards)\n",
    "    win_rates = cummulative_rewards/(np.arange(num_trails)+1)\n",
    "    plt.plot(win_rates, label = \"predicted estimates\")\n",
    "    plt.plot(np.ones(num_trails)*np.max(Bandit_probs), label = 'actual probability')\n",
    "    plt.legend()\n",
    "    plt.show()\n",
    "    \n",
    "if __name__ == \"__main__\":\n",
    "    experiment()"
   ]
  }
 ],
 "metadata": {
  "kernelspec": {
   "display_name": "Python 3 (ipykernel)",
   "language": "python",
   "name": "python3"
  },
  "language_info": {
   "codemirror_mode": {
    "name": "ipython",
    "version": 3
   },
   "file_extension": ".py",
   "mimetype": "text/x-python",
   "name": "python",
   "nbconvert_exporter": "python",
   "pygments_lexer": "ipython3",
   "version": "3.9.7"
  }
 },
 "nbformat": 4,
 "nbformat_minor": 2
}