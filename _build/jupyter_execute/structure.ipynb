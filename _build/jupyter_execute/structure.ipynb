{
 "cells": [
  {
   "cell_type": "markdown",
   "id": "0fb87e7e",
   "metadata": {},
   "source": [
    "### Structure of this book\n",
    "\n",
    "Reinforcement Learning is not that new. The promise of RL is almost intoxicating. The notion that an RL agent can learn to understand how the world works is mind bending. This also enables a way to understand how our mind works.\n",
    "\n",
    "#### [0.1] Introduction\n",
    "\n",
    "In this chapter, we discuss the very basics of Reinforcement Learning. This sections provides a definition of Reinforcement Learning (RL), important attributes of RL, The characteristics of RL that make it different from Machine Learning, and the most importantly, \"The need for RL.\"\n",
    "\n",
    "#### [0.2] Probability Review\n",
    "\n",
    "We begin this book by reviewing important concepts of Probability. This book requires undergraduate level probability as pre-requisite. While it is impossible to cover all the topics in probability, several important ones are discussed in this chapter.\n",
    "\n",
    "#### [1.0] Multi-Arm Bandit Problem\n",
    "\n",
    "We then continue to a special case of the reinforcement learning problem called multi-arm bandits. The agent must decide which choice generates the best outcome or reward on average. This simpler instance of the full RL problem is perhaps the best setting to understand and solve challenges fundamental to RL. This module provides an introduction to estimating values, incremental learning, exploration, non-stationarity, and parameter tuning. We continue to develop and combine these ideas in different ways over the next chapters."
   ]
  }
 ],
 "metadata": {
  "kernelspec": {
   "display_name": "Python 3 (ipykernel)",
   "language": "python",
   "name": "python3"
  },
  "language_info": {
   "codemirror_mode": {
    "name": "ipython",
    "version": 3
   },
   "file_extension": ".py",
   "mimetype": "text/x-python",
   "name": "python",
   "nbconvert_exporter": "python",
   "pygments_lexer": "ipython3",
   "version": "3.9.7"
  }
 },
 "nbformat": 4,
 "nbformat_minor": 5
}